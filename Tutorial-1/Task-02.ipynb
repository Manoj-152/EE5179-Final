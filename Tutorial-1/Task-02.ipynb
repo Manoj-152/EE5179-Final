{
 "cells": [
  {
   "cell_type": "markdown",
   "metadata": {},
   "source": [
    "## Task: 02\n",
    "\n",
    "The goal of this task is to implement **Gradient Descent** algorithm in Python. Gradient Descent dictates how the weights get updated from an inital value to ensure we reach a minimal loss value."
   ]
  },
  {
   "cell_type": "code",
   "execution_count": null,
   "metadata": {},
   "outputs": [],
   "source": [
    "#import necessary libraries\n",
    "import numpy as np\n",
    "import pandas as pd\n",
    "import matplotlib.pyplot as plt"
   ]
  },
  {
   "cell_type": "markdown",
   "metadata": {},
   "source": [
    "Let us make use of a randomly-created sample dataset as follows"
   ]
  },
  {
   "cell_type": "code",
   "execution_count": null,
   "metadata": {},
   "outputs": [],
   "source": [
    "#sample-dataset\n",
    "x_data = [1.0, 2.0, 3.0]\n",
    "y_data = [2.0, 4.0, 6.0]\n",
    "\n",
    "# Let us initialize our weight value (w) with 1.0\n",
    "w = 1.0"
   ]
  },
  {
   "cell_type": "markdown",
   "metadata": {},
   "source": [
    "## Task: 02 - a\n",
    "Implement the forward and loss functions"
   ]
  },
  {
   "cell_type": "code",
   "execution_count": null,
   "metadata": {},
   "outputs": [],
   "source": [
    "#forward function to calculate y_pred for a given x according to the linear model defined above\n",
    "def forward(x):\n",
    "    #implement the forward model to compute y_pred as w*x\n",
    "    ## YOUR CODE STARTS HERE\n",
    "\n",
    "\n",
    "    ## YOUR CODE ENDS HERE\n",
    "\n",
    "#loss-function to compute the mean-squared error between y_pred and y_actual\n",
    "def loss(y_pred, y_actual):\n",
    "    #calculate the mean-squared-error between y_pred and y_actual\n",
    "    ## YOUR CODE STARTS HERE\n",
    "\n",
    "\n",
    "    ## YOUR CODE ENDS HERE"
   ]
  },
  {
   "cell_type": "markdown",
   "metadata": {},
   "source": [
    "### Gradient Descent\n",
    "\n",
    "We update the `w` such that loss is minimum. The factor by which `w` is updated each time is called `alpha(learning rate)`.\n",
    "\n",
    "New `w` is `w` minus `alpha` times derivative of `loss` against `w`, which can be mathematically expressed as follows:\n",
    "\n",
    "$w=w-\\alpha*\\frac{d(loss)}{dw}$\n",
    "\n",
    "This equation is dependent on how the loss function has been defined. \n",
    "In the current case below formula will dictate how to update the value of w for each pass. \n",
    "\n",
    "$w = w - \\alpha*(2x)*(y_{pred}-y_{actual})$\n"
   ]
  },
  {
   "cell_type": "markdown",
   "metadata": {},
   "source": [
    "## Task: 02 - b\n",
    "Complete the gradient function"
   ]
  },
  {
   "cell_type": "code",
   "execution_count": null,
   "metadata": {},
   "outputs": [],
   "source": [
    "# Function to calculate the gradient for w to be updated and get min loss.\n",
    "# Gradient = derivative of the loss for constant x and y with respect to the weight w\n",
    "\n",
    "def gradient(x,y):\n",
    "    #implement the gradient of loss with respect to the weight (w)\n",
    "    ## YOUR CODE STARTS HERE\n",
    "\n",
    "\n",
    "    ## YOUR CODE ENDS HERE"
   ]
  },
  {
   "cell_type": "markdown",
   "metadata": {},
   "source": [
    "Calculate $y_{pred}$ for $x=4$ without training the model"
   ]
  },
  {
   "cell_type": "code",
   "execution_count": null,
   "metadata": {},
   "outputs": [],
   "source": [
    "y_pred_without_train = forward(4)"
   ]
  },
  {
   "cell_type": "markdown",
   "metadata": {},
   "source": [
    "Begin Training"
   ]
  },
  {
   "cell_type": "code",
   "execution_count": null,
   "metadata": {},
   "outputs": [],
   "source": [
    "# In this method, we learn the dataset multiple times (called epochs)\n",
    "# Each time, the weight (w) gets updates using the graident decent algorithm based on weights of the previous epoch\n",
    "\n",
    "alpha = 0.01 # Let us set learning rate as 0.01\n",
    "weight_list = []\n",
    "loss_list=[]\n",
    "\n",
    "for epoch in range(100):\n",
    "    total_loss=0\n",
    "    count = 0\n",
    "    for x, y in zip(x_data, y_data):\n",
    "        \n",
    "        #call the forward function to calculate y_pred\n",
    "        ## YOUR CODE STARTS HERE\n",
    "        y_pred = \n",
    "        ## YOUR CODE ENDS HERE\n",
    "        \n",
    "        #call the gradient function to obtain the grad for the given data-pair and update the weight\n",
    "        ## YOUR CODE STARTS HERE\n",
    "        grad = \n",
    "        w = \n",
    "        ## YOUR CODE ENDS HERE\n",
    "        \n",
    "        #call the loss function to obtain the mean_squared_error of the current sample\n",
    "        ## YOUR CODE STARTS HERE\n",
    "        current_loss = \n",
    "        ## YOUR CODE ENDS HERE\n",
    "        \n",
    "        total_loss+=current_loss\n",
    "        \n",
    "        count += 1\n",
    "    \n",
    "    avg_mse = total_loss / count\n",
    "    print('Progress: ', epoch, 'w=', w, 'loss=', avg_mse)\n",
    "    weight_list.append(w)\n",
    "    loss_list.append(avg_mse) "
   ]
  },
  {
   "cell_type": "markdown",
   "metadata": {},
   "source": [
    "Calculate $y_{pred}$ for $x=4$ after training the model"
   ]
  },
  {
   "cell_type": "code",
   "execution_count": null,
   "metadata": {},
   "outputs": [],
   "source": [
    "y_pred_with_train = forward(4)\n",
    "\n",
    "print(\"Actual Y Value for x=4 : 8\")\n",
    "print(\"Predicted Y Value before training : \" , y_pred_without_train)\n",
    "print(\"Predicted Y Value after training : \" , y_pred_with_train)"
   ]
  },
  {
   "cell_type": "markdown",
   "metadata": {},
   "source": [
    "### Visualize Loss as a function of weight"
   ]
  },
  {
   "cell_type": "code",
   "execution_count": null,
   "metadata": {
    "scrolled": true
   },
   "outputs": [],
   "source": [
    "plt.plot(weight_list, loss_list)\n",
    "plt.ylabel('Loss')\n",
    "plt.xlabel('w')\n",
    "plt.show()"
   ]
  }
 ],
 "metadata": {
  "kernelspec": {
   "display_name": "Python 3 (ipykernel)",
   "language": "python",
   "name": "python3"
  },
  "language_info": {
   "codemirror_mode": {
    "name": "ipython",
    "version": 3
   },
   "file_extension": ".py",
   "mimetype": "text/x-python",
   "name": "python",
   "nbconvert_exporter": "python",
   "pygments_lexer": "ipython3",
   "version": "3.8.10"
  }
 },
 "nbformat": 4,
 "nbformat_minor": 4
}
